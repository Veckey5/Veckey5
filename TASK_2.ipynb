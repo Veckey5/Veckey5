{
  "nbformat": 4,
  "nbformat_minor": 0,
  "metadata": {
    "colab": {
      "provenance": [],
      "authorship_tag": "ABX9TyMCVU/zG8jHDqRdV1lUn+HN",
      "include_colab_link": true
    },
    "kernelspec": {
      "name": "python3",
      "display_name": "Python 3"
    },
    "language_info": {
      "name": "python"
    }
  },
  "cells": [
    {
      "cell_type": "markdown",
      "metadata": {
        "id": "view-in-github",
        "colab_type": "text"
      },
      "source": [
        "<a href=\"https://colab.research.google.com/github/Veckey5/Veckey5/blob/main/TASK_2.ipynb\" target=\"_parent\"><img src=\"https://colab.research.google.com/assets/colab-badge.svg\" alt=\"Open In Colab\"/></a>"
      ]
    },
    {
      "cell_type": "markdown",
      "source": [
        "PART B: DATA MODELLING\n",
        "For this part, I have chosen  to work with the Support Vector Machine (SVM) model because:\n",
        "\n",
        "1. It is efficient in working with time series data which relates to the data provided to me for the task.\n",
        "\n",
        "2. It is used to modelling one-class classification.\n",
        "\n",
        "3. During one of our discussions in the interview, Rob Spencer highlighted the efficiency of SVM models in data modelling for Acutro and thus, I applied SVM.\n"
      ],
      "metadata": {
        "id": "79W0URwmxekM"
      }
    },
    {
      "cell_type": "code",
      "source": [
        "import pandas as pd\n",
        "import numpy as np\n",
        "from sklearn import svm\n",
        "from sklearn.model_selection import GridSearchCV\n",
        "from sklearn.preprocessing import StandardScaler\n",
        "from sklearn.compose import ColumnTransformer\n",
        "from sklearn.pipeline import Pipeline\n",
        "from sklearn.preprocessing import OneHotEncoder"
      ],
      "metadata": {
        "id": "iMhtk2mlxm4k"
      },
      "execution_count": 23,
      "outputs": []
    },
    {
      "cell_type": "code",
      "execution_count": 24,
      "metadata": {
        "colab": {
          "base_uri": "https://localhost:8080/",
          "height": 424
        },
        "id": "NxPc8HTkxcSw",
        "outputId": "62544fce-c4ae-48a0-877a-e3d9622fed3a"
      },
      "outputs": [
        {
          "output_type": "execute_result",
          "data": {
            "text/plain": [
              "        timestamp    value\n",
              "0   1543622414000  35.5000\n",
              "1   1543622715000  35.2500\n",
              "2   1543623014000  35.0000\n",
              "3   1543623314000  34.7500\n",
              "4   1543623614000  34.5000\n",
              "..            ...      ...\n",
              "95  1543651813000  27.6250\n",
              "96  1543652112000  27.6250\n",
              "97  1543652413000  27.5625\n",
              "98  1543652712000  27.5625\n",
              "99  1543653312000  27.5000\n",
              "\n",
              "[100 rows x 2 columns]"
            ],
            "text/html": [
              "\n",
              "  <div id=\"df-33bd6046-4a82-40e2-9539-a832e0f0522d\" class=\"colab-df-container\">\n",
              "    <div>\n",
              "<style scoped>\n",
              "    .dataframe tbody tr th:only-of-type {\n",
              "        vertical-align: middle;\n",
              "    }\n",
              "\n",
              "    .dataframe tbody tr th {\n",
              "        vertical-align: top;\n",
              "    }\n",
              "\n",
              "    .dataframe thead th {\n",
              "        text-align: right;\n",
              "    }\n",
              "</style>\n",
              "<table border=\"1\" class=\"dataframe\">\n",
              "  <thead>\n",
              "    <tr style=\"text-align: right;\">\n",
              "      <th></th>\n",
              "      <th>timestamp</th>\n",
              "      <th>value</th>\n",
              "    </tr>\n",
              "  </thead>\n",
              "  <tbody>\n",
              "    <tr>\n",
              "      <th>0</th>\n",
              "      <td>1543622414000</td>\n",
              "      <td>35.5000</td>\n",
              "    </tr>\n",
              "    <tr>\n",
              "      <th>1</th>\n",
              "      <td>1543622715000</td>\n",
              "      <td>35.2500</td>\n",
              "    </tr>\n",
              "    <tr>\n",
              "      <th>2</th>\n",
              "      <td>1543623014000</td>\n",
              "      <td>35.0000</td>\n",
              "    </tr>\n",
              "    <tr>\n",
              "      <th>3</th>\n",
              "      <td>1543623314000</td>\n",
              "      <td>34.7500</td>\n",
              "    </tr>\n",
              "    <tr>\n",
              "      <th>4</th>\n",
              "      <td>1543623614000</td>\n",
              "      <td>34.5000</td>\n",
              "    </tr>\n",
              "    <tr>\n",
              "      <th>...</th>\n",
              "      <td>...</td>\n",
              "      <td>...</td>\n",
              "    </tr>\n",
              "    <tr>\n",
              "      <th>95</th>\n",
              "      <td>1543651813000</td>\n",
              "      <td>27.6250</td>\n",
              "    </tr>\n",
              "    <tr>\n",
              "      <th>96</th>\n",
              "      <td>1543652112000</td>\n",
              "      <td>27.6250</td>\n",
              "    </tr>\n",
              "    <tr>\n",
              "      <th>97</th>\n",
              "      <td>1543652413000</td>\n",
              "      <td>27.5625</td>\n",
              "    </tr>\n",
              "    <tr>\n",
              "      <th>98</th>\n",
              "      <td>1543652712000</td>\n",
              "      <td>27.5625</td>\n",
              "    </tr>\n",
              "    <tr>\n",
              "      <th>99</th>\n",
              "      <td>1543653312000</td>\n",
              "      <td>27.5000</td>\n",
              "    </tr>\n",
              "  </tbody>\n",
              "</table>\n",
              "<p>100 rows × 2 columns</p>\n",
              "</div>\n",
              "    <div class=\"colab-df-buttons\">\n",
              "\n",
              "  <div class=\"colab-df-container\">\n",
              "    <button class=\"colab-df-convert\" onclick=\"convertToInteractive('df-33bd6046-4a82-40e2-9539-a832e0f0522d')\"\n",
              "            title=\"Convert this dataframe to an interactive table.\"\n",
              "            style=\"display:none;\">\n",
              "\n",
              "  <svg xmlns=\"http://www.w3.org/2000/svg\" height=\"24px\" viewBox=\"0 -960 960 960\">\n",
              "    <path d=\"M120-120v-720h720v720H120Zm60-500h600v-160H180v160Zm220 220h160v-160H400v160Zm0 220h160v-160H400v160ZM180-400h160v-160H180v160Zm440 0h160v-160H620v160ZM180-180h160v-160H180v160Zm440 0h160v-160H620v160Z\"/>\n",
              "  </svg>\n",
              "    </button>\n",
              "\n",
              "  <style>\n",
              "    .colab-df-container {\n",
              "      display:flex;\n",
              "      gap: 12px;\n",
              "    }\n",
              "\n",
              "    .colab-df-convert {\n",
              "      background-color: #E8F0FE;\n",
              "      border: none;\n",
              "      border-radius: 50%;\n",
              "      cursor: pointer;\n",
              "      display: none;\n",
              "      fill: #1967D2;\n",
              "      height: 32px;\n",
              "      padding: 0 0 0 0;\n",
              "      width: 32px;\n",
              "    }\n",
              "\n",
              "    .colab-df-convert:hover {\n",
              "      background-color: #E2EBFA;\n",
              "      box-shadow: 0px 1px 2px rgba(60, 64, 67, 0.3), 0px 1px 3px 1px rgba(60, 64, 67, 0.15);\n",
              "      fill: #174EA6;\n",
              "    }\n",
              "\n",
              "    .colab-df-buttons div {\n",
              "      margin-bottom: 4px;\n",
              "    }\n",
              "\n",
              "    [theme=dark] .colab-df-convert {\n",
              "      background-color: #3B4455;\n",
              "      fill: #D2E3FC;\n",
              "    }\n",
              "\n",
              "    [theme=dark] .colab-df-convert:hover {\n",
              "      background-color: #434B5C;\n",
              "      box-shadow: 0px 1px 3px 1px rgba(0, 0, 0, 0.15);\n",
              "      filter: drop-shadow(0px 1px 2px rgba(0, 0, 0, 0.3));\n",
              "      fill: #FFFFFF;\n",
              "    }\n",
              "  </style>\n",
              "\n",
              "    <script>\n",
              "      const buttonEl =\n",
              "        document.querySelector('#df-33bd6046-4a82-40e2-9539-a832e0f0522d button.colab-df-convert');\n",
              "      buttonEl.style.display =\n",
              "        google.colab.kernel.accessAllowed ? 'block' : 'none';\n",
              "\n",
              "      async function convertToInteractive(key) {\n",
              "        const element = document.querySelector('#df-33bd6046-4a82-40e2-9539-a832e0f0522d');\n",
              "        const dataTable =\n",
              "          await google.colab.kernel.invokeFunction('convertToInteractive',\n",
              "                                                    [key], {});\n",
              "        if (!dataTable) return;\n",
              "\n",
              "        const docLinkHtml = 'Like what you see? Visit the ' +\n",
              "          '<a target=\"_blank\" href=https://colab.research.google.com/notebooks/data_table.ipynb>data table notebook</a>'\n",
              "          + ' to learn more about interactive tables.';\n",
              "        element.innerHTML = '';\n",
              "        dataTable['output_type'] = 'display_data';\n",
              "        await google.colab.output.renderOutput(dataTable, element);\n",
              "        const docLink = document.createElement('div');\n",
              "        docLink.innerHTML = docLinkHtml;\n",
              "        element.appendChild(docLink);\n",
              "      }\n",
              "    </script>\n",
              "  </div>\n",
              "\n",
              "\n",
              "<div id=\"df-2af8f6cb-cb61-4203-bd3e-9a98c5f72f36\">\n",
              "  <button class=\"colab-df-quickchart\" onclick=\"quickchart('df-2af8f6cb-cb61-4203-bd3e-9a98c5f72f36')\"\n",
              "            title=\"Suggest charts.\"\n",
              "            style=\"display:none;\">\n",
              "\n",
              "<svg xmlns=\"http://www.w3.org/2000/svg\" height=\"24px\"viewBox=\"0 0 24 24\"\n",
              "     width=\"24px\">\n",
              "    <g>\n",
              "        <path d=\"M19 3H5c-1.1 0-2 .9-2 2v14c0 1.1.9 2 2 2h14c1.1 0 2-.9 2-2V5c0-1.1-.9-2-2-2zM9 17H7v-7h2v7zm4 0h-2V7h2v10zm4 0h-2v-4h2v4z\"/>\n",
              "    </g>\n",
              "</svg>\n",
              "  </button>\n",
              "\n",
              "<style>\n",
              "  .colab-df-quickchart {\n",
              "      --bg-color: #E8F0FE;\n",
              "      --fill-color: #1967D2;\n",
              "      --hover-bg-color: #E2EBFA;\n",
              "      --hover-fill-color: #174EA6;\n",
              "      --disabled-fill-color: #AAA;\n",
              "      --disabled-bg-color: #DDD;\n",
              "  }\n",
              "\n",
              "  [theme=dark] .colab-df-quickchart {\n",
              "      --bg-color: #3B4455;\n",
              "      --fill-color: #D2E3FC;\n",
              "      --hover-bg-color: #434B5C;\n",
              "      --hover-fill-color: #FFFFFF;\n",
              "      --disabled-bg-color: #3B4455;\n",
              "      --disabled-fill-color: #666;\n",
              "  }\n",
              "\n",
              "  .colab-df-quickchart {\n",
              "    background-color: var(--bg-color);\n",
              "    border: none;\n",
              "    border-radius: 50%;\n",
              "    cursor: pointer;\n",
              "    display: none;\n",
              "    fill: var(--fill-color);\n",
              "    height: 32px;\n",
              "    padding: 0;\n",
              "    width: 32px;\n",
              "  }\n",
              "\n",
              "  .colab-df-quickchart:hover {\n",
              "    background-color: var(--hover-bg-color);\n",
              "    box-shadow: 0 1px 2px rgba(60, 64, 67, 0.3), 0 1px 3px 1px rgba(60, 64, 67, 0.15);\n",
              "    fill: var(--button-hover-fill-color);\n",
              "  }\n",
              "\n",
              "  .colab-df-quickchart-complete:disabled,\n",
              "  .colab-df-quickchart-complete:disabled:hover {\n",
              "    background-color: var(--disabled-bg-color);\n",
              "    fill: var(--disabled-fill-color);\n",
              "    box-shadow: none;\n",
              "  }\n",
              "\n",
              "  .colab-df-spinner {\n",
              "    border: 2px solid var(--fill-color);\n",
              "    border-color: transparent;\n",
              "    border-bottom-color: var(--fill-color);\n",
              "    animation:\n",
              "      spin 1s steps(1) infinite;\n",
              "  }\n",
              "\n",
              "  @keyframes spin {\n",
              "    0% {\n",
              "      border-color: transparent;\n",
              "      border-bottom-color: var(--fill-color);\n",
              "      border-left-color: var(--fill-color);\n",
              "    }\n",
              "    20% {\n",
              "      border-color: transparent;\n",
              "      border-left-color: var(--fill-color);\n",
              "      border-top-color: var(--fill-color);\n",
              "    }\n",
              "    30% {\n",
              "      border-color: transparent;\n",
              "      border-left-color: var(--fill-color);\n",
              "      border-top-color: var(--fill-color);\n",
              "      border-right-color: var(--fill-color);\n",
              "    }\n",
              "    40% {\n",
              "      border-color: transparent;\n",
              "      border-right-color: var(--fill-color);\n",
              "      border-top-color: var(--fill-color);\n",
              "    }\n",
              "    60% {\n",
              "      border-color: transparent;\n",
              "      border-right-color: var(--fill-color);\n",
              "    }\n",
              "    80% {\n",
              "      border-color: transparent;\n",
              "      border-right-color: var(--fill-color);\n",
              "      border-bottom-color: var(--fill-color);\n",
              "    }\n",
              "    90% {\n",
              "      border-color: transparent;\n",
              "      border-bottom-color: var(--fill-color);\n",
              "    }\n",
              "  }\n",
              "</style>\n",
              "\n",
              "  <script>\n",
              "    async function quickchart(key) {\n",
              "      const quickchartButtonEl =\n",
              "        document.querySelector('#' + key + ' button');\n",
              "      quickchartButtonEl.disabled = true;  // To prevent multiple clicks.\n",
              "      quickchartButtonEl.classList.add('colab-df-spinner');\n",
              "      try {\n",
              "        const charts = await google.colab.kernel.invokeFunction(\n",
              "            'suggestCharts', [key], {});\n",
              "      } catch (error) {\n",
              "        console.error('Error during call to suggestCharts:', error);\n",
              "      }\n",
              "      quickchartButtonEl.classList.remove('colab-df-spinner');\n",
              "      quickchartButtonEl.classList.add('colab-df-quickchart-complete');\n",
              "    }\n",
              "    (() => {\n",
              "      let quickchartButtonEl =\n",
              "        document.querySelector('#df-2af8f6cb-cb61-4203-bd3e-9a98c5f72f36 button');\n",
              "      quickchartButtonEl.style.display =\n",
              "        google.colab.kernel.accessAllowed ? 'block' : 'none';\n",
              "    })();\n",
              "  </script>\n",
              "</div>\n",
              "    </div>\n",
              "  </div>\n"
            ]
          },
          "metadata": {},
          "execution_count": 24
        }
      ],
      "source": [
        "testdata2 = pd.read_csv('boiler-flow-temperature.csv')\n",
        "testdata2.head(100)"
      ]
    },
    {
      "cell_type": "markdown",
      "source": [],
      "metadata": {
        "id": "tCEJFrTL6yQ-"
      }
    },
    {
      "cell_type": "code",
      "source": [
        "# To ensure the attribute's data type is time stamp\n",
        "testdata2[' timestamp'] = pd.to_datetime(testdata2[' timestamp'], unit='ms')"
      ],
      "metadata": {
        "id": "cjan47nhxlyi"
      },
      "execution_count": 25,
      "outputs": []
    },
    {
      "cell_type": "markdown",
      "source": [
        "FEATURE ENGINEERING\n",
        "\n",
        "I extracted the date and time from the timestamp attribute in order to make more features and improve the model performance at the end."
      ],
      "metadata": {
        "id": "8rF5yLK56-Lq"
      }
    },
    {
      "cell_type": "code",
      "source": [
        "# Extract date and time components separately\n",
        "testdata2['date'] = testdata2[' timestamp'].dt.date\n",
        "testdata2['time'] = testdata2[' timestamp'].dt.time\n",
        "\n",
        "# Display what the extracted features look like\n",
        "print(testdata2['date'])\n",
        "print(testdata2['time'])"
      ],
      "metadata": {
        "colab": {
          "base_uri": "https://localhost:8080/"
        },
        "id": "7hPR7msbyk28",
        "outputId": "370a817a-eac1-4d60-b21c-a9d567230d85"
      },
      "execution_count": 26,
      "outputs": [
        {
          "output_type": "stream",
          "name": "stdout",
          "text": [
            "0       2018-12-01\n",
            "1       2018-12-01\n",
            "2       2018-12-01\n",
            "3       2018-12-01\n",
            "4       2018-12-01\n",
            "           ...    \n",
            "8479    2018-12-31\n",
            "8480    2018-12-31\n",
            "8481    2018-12-31\n",
            "8482    2018-12-31\n",
            "8483    2018-12-31\n",
            "Name: date, Length: 8484, dtype: object\n",
            "0       00:00:14\n",
            "1       00:05:15\n",
            "2       00:10:14\n",
            "3       00:15:14\n",
            "4       00:20:14\n",
            "          ...   \n",
            "8479    23:30:50\n",
            "8480    23:35:50\n",
            "8481    23:40:51\n",
            "8482    23:50:50\n",
            "8483    23:55:51\n",
            "Name: time, Length: 8484, dtype: object\n"
          ]
        }
      ]
    },
    {
      "cell_type": "code",
      "source": [
        "column = testdata2[' value']\n",
        "print(column)"
      ],
      "metadata": {
        "colab": {
          "base_uri": "https://localhost:8080/"
        },
        "id": "JHVOZ-4DCqf4",
        "outputId": "5b87d08f-52c9-4d4e-a7e8-87ac12b45426"
      },
      "execution_count": 33,
      "outputs": [
        {
          "output_type": "stream",
          "name": "stdout",
          "text": [
            "0       35.5000\n",
            "1       35.2500\n",
            "2       35.0000\n",
            "3       34.7500\n",
            "4       34.5000\n",
            "         ...   \n",
            "8479    36.7500\n",
            "8480    36.2500\n",
            "8481    35.8125\n",
            "8482    35.0000\n",
            "8483    34.6250\n",
            "Name:  value, Length: 8484, dtype: float64\n"
          ]
        }
      ]
    },
    {
      "cell_type": "markdown",
      "source": [
        "MEMORY PARAMETER\n",
        "\n",
        "The task requires that I specify the amount of memory training the algorithm would use and so I set a memory parameter. It also acknowledged the previous temperature values providing a memory window (m = 5) for the algorithm."
      ],
      "metadata": {
        "id": "Ck3emRUs7RdN"
      }
    },
    {
      "cell_type": "code",
      "source": [
        "#Set the memory parameter, m and create input data with m using a loop function\n",
        "m = 5\n",
        "input_data = []\n",
        "\n",
        "for i in range(m, len(testdata2)):\n",
        "    data_point = {\n",
        "        'date': testdata2['date'].iloc[i],\n",
        "        'time': testdata2['time'].iloc[i],\n",
        "        ' value': testdata2[' value'].iloc[i],\n",
        "    }\n",
        "    # Add previous m temperature values to the data point\n",
        "    for j in range(1, m + 1):\n",
        "        data_point[f' value_{j}'] = testdata2[' value'].iloc[i - j]\n",
        "\n",
        "    input_data.append(data_point)\n",
        "\n",
        "input_df = pd.DataFrame(input_data)"
      ],
      "metadata": {
        "id": "z9JxM-5B8O1T"
      },
      "execution_count": 51,
      "outputs": []
    },
    {
      "cell_type": "markdown",
      "source": [
        "NORMALIZATION: I used the Standard Scaler to normalize the values of the temperature to help reduce overfitting"
      ],
      "metadata": {
        "id": "-7scf8nm9sjy"
      }
    },
    {
      "cell_type": "code",
      "source": [
        "# Normalize the temperature values using StandardScaler\n",
        "scaler = StandardScaler()\n",
        "input_df[[' value', ' value_1', ' value_2', ' value_3', ' value_4', ' value_5']] = scaler.fit_transform(input_df[[' value', ' value_1', ' value_2', ' value_3', ' value_4', ' value_5']])"
      ],
      "metadata": {
        "id": "eKDrnz-W0tZ4"
      },
      "execution_count": 52,
      "outputs": []
    },
    {
      "cell_type": "markdown",
      "source": [
        "TRAINING THE DATA"
      ],
      "metadata": {
        "id": "G6x1lkBs_1cJ"
      }
    },
    {
      "cell_type": "code",
      "source": [
        "# Define training data (e.g., the first 3 weeks)\n",
        "training_data = input_df.iloc[:len(input_df) - 7]  # 7 days in the last week\n",
        "\n"
      ],
      "metadata": {
        "id": "xqsdaqpE0PmQ"
      },
      "execution_count": 62,
      "outputs": []
    },
    {
      "cell_type": "markdown",
      "source": [
        "SETTING THE PARAMETER GRIDS"
      ],
      "metadata": {
        "id": "mibkJ19J_4wg"
      }
    },
    {
      "cell_type": "code",
      "source": [
        "parameters = {\n",
        "    'nu':  0.05,  # Shows the proportion of outliers\n",
        "    'kernel':  'rbf',\n",
        "    'gamma': 0.01\n",
        "}"
      ],
      "metadata": {
        "id": "2Kx02fG9_7k0"
      },
      "execution_count": 63,
      "outputs": []
    },
    {
      "cell_type": "markdown",
      "source": [
        "BUILDING THE SVM MODEL"
      ],
      "metadata": {
        "id": "LQu8wcfMAOxu"
      }
    },
    {
      "cell_type": "code",
      "source": [
        "# I built a one-class SVM model\n",
        "svm_model = svm.OneClassSVM(**parameters)\n",
        "\n"
      ],
      "metadata": {
        "id": "4PFIgoRe0RCu"
      },
      "execution_count": 64,
      "outputs": []
    },
    {
      "cell_type": "markdown",
      "source": [
        "TRAINING THE MODEL AND MAKING PREDICTIONS"
      ],
      "metadata": {
        "id": "EXCtRm0uK1Tj"
      }
    },
    {
      "cell_type": "code",
      "source": [
        "svm_model.fit(training_data[[' value', ' value_1', ' value_2', ' value_3', ' value_4', ' value_5']])\n",
        "# Making predictions\n",
        "predictions = svm_model.predict(input_df[[' value', ' value_1', ' value_2', ' value_3', ' value_4', ' value_5']])\n"
      ],
      "metadata": {
        "id": "U_kXcbWzK4nX"
      },
      "execution_count": 66,
      "outputs": []
    },
    {
      "cell_type": "markdown",
      "source": [
        "CLASSIFICATION REPORT\n"
      ],
      "metadata": {
        "id": "Cs1bscy7LBbF"
      }
    },
    {
      "cell_type": "code",
      "source": [
        "from sklearn.metrics import classification_report"
      ],
      "metadata": {
        "id": "NIS3R7jFLZjc"
      },
      "execution_count": 68,
      "outputs": []
    },
    {
      "cell_type": "code",
      "source": [
        "# Print the classification report\n",
        "report = classification_report([1] * len(input_df), predictions, target_names=['Normal', 'Anomaly'])\n",
        "print(report)"
      ],
      "metadata": {
        "colab": {
          "base_uri": "https://localhost:8080/"
        },
        "id": "cmGiy6rLLEoE",
        "outputId": "0fc733de-57c4-4130-dbf3-10ed1117825c"
      },
      "execution_count": 72,
      "outputs": [
        {
          "output_type": "stream",
          "name": "stdout",
          "text": [
            "              precision    recall  f1-score   support\n",
            "\n",
            "      Normal       0.00      0.00      0.00         0\n",
            "     Anomaly       1.00      0.95      0.97      8479\n",
            "\n",
            "    accuracy                           0.95      8479\n",
            "   macro avg       0.50      0.47      0.49      8479\n",
            "weighted avg       1.00      0.95      0.97      8479\n",
            "\n"
          ]
        },
        {
          "output_type": "stream",
          "name": "stderr",
          "text": [
            "/usr/local/lib/python3.10/dist-packages/sklearn/metrics/_classification.py:1344: UndefinedMetricWarning: Recall and F-score are ill-defined and being set to 0.0 in labels with no true samples. Use `zero_division` parameter to control this behavior.\n",
            "  _warn_prf(average, modifier, msg_start, len(result))\n",
            "/usr/local/lib/python3.10/dist-packages/sklearn/metrics/_classification.py:1344: UndefinedMetricWarning: Recall and F-score are ill-defined and being set to 0.0 in labels with no true samples. Use `zero_division` parameter to control this behavior.\n",
            "  _warn_prf(average, modifier, msg_start, len(result))\n",
            "/usr/local/lib/python3.10/dist-packages/sklearn/metrics/_classification.py:1344: UndefinedMetricWarning: Recall and F-score are ill-defined and being set to 0.0 in labels with no true samples. Use `zero_division` parameter to control this behavior.\n",
            "  _warn_prf(average, modifier, msg_start, len(result))\n"
          ]
        }
      ]
    },
    {
      "cell_type": "markdown",
      "source": [
        "ANALYSIS\n",
        "\n",
        "There is a lot of overfitting in the dataset probably because of the limited features available in the dataset.\n",
        "From the classification report above, the following are deduced.\n",
        "1. I set the target names as normal and anomaly just for clarification.\n",
        "\n",
        "2. The precision for normal class is very low at 0.00 showing that the model does not predict this class correctly at all. On th other hand, the model perfectly predicts the anomaly class since precision is 1.0.\n",
        "\n",
        "3. For the recall: The model predicts the actual anomalies or outliers in th edata given its value of 0.95 and it is not able to identify the actual classes of the normal class.\n",
        "\n",
        "4. Once again, the f-measure of the anomaly class is high at 0.97 due to the high values of precision and recall since it is a reflection of their harmonic mean. This same assumption affects the normal class which obviously has a low fmeasure score.\n",
        "\n",
        "However, the accuracy is high as 0.95 as it correctly classified about 95% of the samples in the data provided.\n",
        "\n",
        "In summary, the model performance can be attributed to:\n",
        "1. little historic data provided\n",
        "\n",
        "2. limitation of features in the dataset\n",
        "\n",
        "3. Data splitting which still reduced the amount of data used to develop the model\n",
        "\n",
        "4. It could also require using other algorithms and comparing the model performance.\n"
      ],
      "metadata": {
        "id": "iW5BaBYNNKBL"
      }
    }
  ]
}