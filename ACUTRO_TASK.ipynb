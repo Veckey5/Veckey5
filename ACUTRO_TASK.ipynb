{
  "nbformat": 4,
  "nbformat_minor": 0,
  "metadata": {
    "colab": {
      "provenance": [],
      "authorship_tag": "ABX9TyPEnTmvdoT+0HrVbdR7dVnk",
      "include_colab_link": true
    },
    "kernelspec": {
      "name": "python3",
      "display_name": "Python 3"
    },
    "language_info": {
      "name": "python"
    }
  },
  "cells": [
    {
      "cell_type": "markdown",
      "metadata": {
        "id": "view-in-github",
        "colab_type": "text"
      },
      "source": [
        "<a href=\"https://colab.research.google.com/github/Veckey5/Veckey5/blob/main/ACUTRO_TASK.ipynb\" target=\"_parent\"><img src=\"https://colab.research.google.com/assets/colab-badge.svg\" alt=\"Open In Colab\"/></a>"
      ]
    },
    {
      "cell_type": "code",
      "source": [],
      "metadata": {
        "id": "9Zqehh2UNlTM"
      },
      "execution_count": null,
      "outputs": []
    },
    {
      "cell_type": "markdown",
      "source": [
        "**ACUTRO - DATA ENGINEER COMPETENCY TEST**\n",
        "\n",
        "**PART A: DATA VISUALIZATION AND ANALYSIS**"
      ],
      "metadata": {
        "id": "ev4iJsaGNl5a"
      }
    },
    {
      "cell_type": "markdown",
      "source": [
        "From the CSV file provided, the following observations were made:\n",
        "1. There are three attributes namely time stamp, location and temperature (in Celsius)\n",
        "2. The expected temperature threshold to be reached weekly is 55 degrees Celsius.\n",
        "3. Data points are obtained at no specific time interval.\n",
        "4. The time stamp includes the time, day, month and year data was received.\n",
        "5. There is more than one location and they are: FF Staff Room, GF Ladies WC, GF Treatment Room 4 and FF Doctors Room."
      ],
      "metadata": {
        "id": "JEA6U_fSNf82"
      }
    },
    {
      "cell_type": "markdown",
      "source": [
        "STEP 1: LOAD THE DATA"
      ],
      "metadata": {
        "id": "cLhWotB2Niya"
      }
    },
    {
      "cell_type": "code",
      "source": [
        "import pandas as pd\n",
        "testdata = pd.read_csv('hot-water-pipe-temperature.csv')\n",
        "testdata.head(100)"
      ],
      "metadata": {
        "id": "oH3vbKqqN23R"
      },
      "execution_count": 2,
      "outputs": []
    },
    {
      "cell_type": "markdown",
      "source": [
        "STEP 2: HANDLING MISSING DATA"
      ],
      "metadata": {
        "id": "Q91SAXstRQG3"
      }
    },
    {
      "cell_type": "code",
      "source": [
        "missing_data = testdata.isnull().sum()\n",
        "print(missing_data)"
      ],
      "metadata": {
        "colab": {
          "base_uri": "https://localhost:8080/"
        },
        "id": "GvXZDqlpRNtR",
        "outputId": "a16df73d-83e9-458e-8446-c82eedffb34d"
      },
      "execution_count": 4,
      "outputs": [
        {
          "output_type": "stream",
          "name": "stdout",
          "text": [
            "Timestamp    0\n",
            "Location     0\n",
            "Value        0\n",
            "dtype: int64\n"
          ]
        }
      ]
    },
    {
      "cell_type": "markdown",
      "source": [
        "From the above, we can see that there are no missing values in the dataset."
      ],
      "metadata": {
        "id": "I6soe0CvZlhP"
      }
    },
    {
      "cell_type": "markdown",
      "source": [
        "STEP 3: DATA TYPE CHECK\n",
        "\n",
        "This step ensures that the data type here is truly timestamp as it would make the task easier to compute."
      ],
      "metadata": {
        "id": "gJHQmW1bZuN9"
      }
    },
    {
      "cell_type": "code",
      "source": [
        "# Converts the Timestamp attribute to timestamp (for emphasis)\n",
        "testdata['Timestamp'] = pd.to_datetime(testdata['Timestamp'])\n"
      ],
      "metadata": {
        "id": "qXT1cyp3TGVB"
      },
      "execution_count": 5,
      "outputs": []
    },
    {
      "cell_type": "markdown",
      "source": [
        "Step 4: DATA EXPLORATION\n",
        "\n",
        "Though not required, I have decided to compute the statistics of the dataset to have an idea of the mean, median, quartiles and the standard deviation of the data."
      ],
      "metadata": {
        "id": "_oehETl4aPlw"
      }
    },
    {
      "cell_type": "code",
      "source": [
        "statistics = testdata.describe()\n",
        "print(statistics)"
      ],
      "metadata": {
        "colab": {
          "base_uri": "https://localhost:8080/"
        },
        "id": "YpzpFGSLTShS",
        "outputId": "3e9358da-d79a-4f97-cc2d-7d2bf9f37465"
      },
      "execution_count": 7,
      "outputs": [
        {
          "output_type": "stream",
          "name": "stdout",
          "text": [
            "             Value\n",
            "count  5919.000000\n",
            "mean     22.322703\n",
            "std       7.138920\n",
            "min      14.750000\n",
            "25%      18.810000\n",
            "50%      20.430000\n",
            "75%      22.430000\n",
            "max      65.560000\n"
          ]
        }
      ]
    },
    {
      "cell_type": "markdown",
      "source": [
        "TASK: Plot the data to easily identify if the health and safety check (values > 55 for at least one measurement) is met every week."
      ],
      "metadata": {
        "id": "5V0cIsmCathf"
      }
    },
    {
      "cell_type": "markdown",
      "source": [
        "STEP 1: Grouping the testdata by location and week"
      ],
      "metadata": {
        "id": "2mxQmk2kbXK7"
      }
    },
    {
      "cell_type": "code",
      "source": [
        "# Group by location and week\n",
        "grouped_testdata = testdata.groupby(['Location', testdata['Timestamp'].dt.strftime('%U')])\n",
        "\n",
        "# Here, .dt.strftime('%U') has been used to extract the week number of the year for a particular timestamp from the datetime object and weeks start from Sunday.\n",
        "\n",
        "# Display the first 100 rows of the grouped testdata\n",
        "print(grouped_testdata.head())\n"
      ],
      "metadata": {
        "colab": {
          "base_uri": "https://localhost:8080/"
        },
        "id": "2EEjnrF6VFg1",
        "outputId": "2600c4f6-d5d4-4735-b381-2eebc97f53c6"
      },
      "execution_count": 14,
      "outputs": [
        {
          "output_type": "stream",
          "name": "stdout",
          "text": [
            "               Timestamp          Location  Value\n",
            "0    2019-09-18 09:24:00  FF Doctors Room   14.75\n",
            "1    2019-09-18 08:24:00  FF Doctors Room   14.81\n",
            "2    2019-09-18 10:24:00  FF Doctors Room   14.87\n",
            "3    2019-09-18 07:24:00  FF Doctors Room   14.87\n",
            "4    2019-09-18 06:24:00  FF Doctors Room   15.06\n",
            "...                  ...               ...    ...\n",
            "5525 2019-06-08 09:22:00    FF Staff Room   22.75\n",
            "5557 2019-06-08 10:22:00    FF Staff Room   22.87\n",
            "5577 2019-06-08 11:22:00    FF Staff Room   23.00\n",
            "5592 2019-06-08 08:22:00    FF Staff Room   23.06\n",
            "5599 2019-06-08 15:22:00    FF Staff Room   23.12\n",
            "\n",
            "[380 rows x 3 columns]\n"
          ]
        }
      ]
    },
    {
      "cell_type": "markdown",
      "source": [
        "STEP 2: Check to know if the temperature measurement requirement is satisfied or met (> 55°C)"
      ],
      "metadata": {
        "id": "RW7tUqZ3dKAX"
      }
    },
    {
      "cell_type": "code",
      "source": [
        "health_safety_check = grouped_testdata['Value'].apply(lambda x: (x > 55).any()).unstack(fill_value=False)\n",
        "\n",
        "# Display the health_safety_check\n",
        "print(health_safety_check)"
      ],
      "metadata": {
        "colab": {
          "base_uri": "https://localhost:8080/"
        },
        "id": "sN8o25jDVFu-",
        "outputId": "a4490a47-ed4b-4fe3-e200-727e9f678642"
      },
      "execution_count": 17,
      "outputs": [
        {
          "output_type": "stream",
          "name": "stdout",
          "text": [
            "Timestamp                01     05     09     14     18     22     23     27  \\\n",
            "Location                                                                       \n",
            "FF Doctors Room       False  False  False  False  False  False  False  False   \n",
            "FF Staff Room         False  False  False  False  False  False  False  False   \n",
            "GF Ladies WC           True  False  False  False  False  False  False  False   \n",
            "GF Treatment Room 4   False   True  False  False  False  False  False  False   \n",
            "\n",
            "Timestamp                30     31     32     33     34     36     37     38  \\\n",
            "Location                                                                       \n",
            "FF Doctors Room       False  False  False   True  False  False   True  False   \n",
            "FF Staff Room         False  False  False  False  False  False  False  False   \n",
            "GF Ladies WC          False   True   True   True   True   True   True  False   \n",
            "GF Treatment Room 4   False  False  False   True  False  False   True   True   \n",
            "\n",
            "Timestamp                40     44     49  \n",
            "Location                                   \n",
            "FF Doctors Room        True  False  False  \n",
            "FF Staff Room         False  False  False  \n",
            "GF Ladies WC           True  False  False  \n",
            "GF Treatment Room 4    True  False  False  \n"
          ]
        }
      ]
    },
    {
      "cell_type": "markdown",
      "source": [
        "From the result above, True and False have been used. True is used if a particular location in a particular week meets the requirement and False if otherwise."
      ],
      "metadata": {
        "id": "vccVnOAseR6J"
      }
    },
    {
      "cell_type": "markdown",
      "source": [
        "STEP 3: Having set the rule, the next step is to visualize the result.\n",
        "Different graphs can be used for this such as the bar chart, heatmap, scatter plot and line chart\n",
        "I have chosen to use the stacked bar chart because:\n",
        "\n",
        "a. it gives a clearer and more interpretable view.\n",
        "\n",
        "b. I can use color-coding to show if requirements are met or not.\n",
        "\n",
        "c. I can easily analyse the compliance trends of the temperature"
      ],
      "metadata": {
        "id": "bJzUhMi_ezx3"
      }
    },
    {
      "cell_type": "code",
      "source": [
        "import matplotlib.pyplot as plt\n"
      ],
      "metadata": {
        "id": "NNtcY7jcVGCQ"
      },
      "execution_count": 15,
      "outputs": []
    },
    {
      "cell_type": "markdown",
      "source": [
        "STEP 4: Extract the number of True and False values from each location and week from the health_safety_check function above"
      ],
      "metadata": {
        "id": "iizhe4wNgW--"
      }
    },
    {
      "cell_type": "code",
      "source": [
        "met = health_safety_check[health_safety_check == True].count(axis=1)\n",
        "not_met = health_safety_check[health_safety_check == False].count(axis=1)"
      ],
      "metadata": {
        "id": "eVQrgLr7gOFo"
      },
      "execution_count": 18,
      "outputs": []
    },
    {
      "cell_type": "markdown",
      "source": [
        "STEP 5: Plot the Stacked bar chart"
      ],
      "metadata": {
        "id": "_ltXQXK6hJz5"
      }
    },
    {
      "cell_type": "code",
      "source": [
        "plt.figure(figsize=(8, 6))\n",
        "plt.bar(health_safety_check.index, met, label='Met Requirement', color='green')\n",
        "plt.bar(health_safety_check.index, not_met, bottom=met, label='Not Met Requirement', color='red')\n",
        "plt.xlabel('Location')\n",
        "plt.ylabel('Number of Weeks')\n",
        "plt.title('Compliance with Temperature Requirement by Location and week')\n",
        "plt.legend()\n",
        "# Display the plot\n",
        "plt.xticks(rotation=45, ha='right')\n",
        "plt.tight_layout()\n",
        "plt.show()"
      ],
      "metadata": {
        "colab": {
          "base_uri": "https://localhost:8080/",
          "height": 607
        },
        "id": "wA_peElQhOUi",
        "outputId": "68f27c95-b136-4d43-df5b-865582a2b90e"
      },
      "execution_count": 20,
      "outputs": [
        {
          "output_type": "display_data",
          "data": {
            "text/plain": [
              "<Figure size 800x600 with 1 Axes>"
            ],
            "image/png": "[encoded data removed]"
          },
          "metadata": {}
        }
      ]
    },
    {
      "cell_type": "markdown",
      "source": [
        "**ANALYSIS**\n",
        "\n",
        "From the graph above, the following deductions can be made;\n",
        "\n",
        "1. Not all locations met the requirement because the 'FF Staff Room' location did not even once.\n",
        "\n",
        "2. The 'GF Ladies WC' location had the highest rayte of compliance as this location met the required temeperature for at least once in a week for over 7.5 weeks.\n",
        "\n",
        "3. If ranked in descending order, the locations that complied to this requirement are:\n",
        "\n",
        "a. GF Ladies WC\n",
        "\n",
        "b. GF Treatment Room 4\n",
        "\n",
        "c. FF Doctors Room\n",
        "\n",
        "Thus, more analysis can be doen to figure out why the 'FF Staff Room' does not meet the requirement at all and to find ways to optimize the performance of other locations and ensure they meet the requirements for more weeks."
      ],
      "metadata": {
        "id": "fJM2TMQQic-8"
      }
    }
  ]
}